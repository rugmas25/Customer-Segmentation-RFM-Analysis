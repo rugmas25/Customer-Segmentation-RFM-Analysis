{
 "cells": [
  {
   "cell_type": "markdown",
   "id": "f2fef164",
   "metadata": {},
   "source": [
    "# Customer Segmentation"
   ]
  },
  {
   "cell_type": "markdown",
   "id": "97517c90",
   "metadata": {},
   "source": [
    "## Data "
   ]
  },
  {
   "cell_type": "markdown",
   "id": "bb7d8068",
   "metadata": {},
   "source": [
    "For the purpose of data collection, the Online Retail dataset available from UCI Machine Learning repository was utilized. This dataset comprises transactional records spanning from December 1st, 2010 to December 9th, 2011, capturing the transactions of a Europe-based online retail platform. Each row within the dataset represents a distinct transaction event. The dataset encompasses essential transaction details such as product names, quantities, prices, and distinctive identification columns. For analytical purposes, a subset of 10000 rows was thoughtfully sampled, thereby being regarded as a representative subset of the entirety of customer transactions."
   ]
  },
  {
   "cell_type": "markdown",
   "id": "8b6f77db",
   "metadata": {},
   "source": [
    "### RFM"
   ]
  },
  {
   "cell_type": "markdown",
   "id": "210e6c9a",
   "metadata": {},
   "source": [
    "RFM stands for Recency, Frequency, and Monetary Value, and it is a widely used technique in marketing and customer analytics. RFM analysis is a method that categorizes customers based on their past behavior, focusing on three main aspects:\n",
    "\n",
    "1. Recency (R): This refers to how recently a customer has made a purchase. Customers who have made a purchase more recently are considered more engaged and active.\n",
    "\n",
    "2. Frequency (F): Frequency indicates how often a customer makes purchases. Customers who make purchases frequently are typically more loyal and valuable to a business.\n",
    "\n",
    "3. Monetary Value (M): Monetary value represents the amount of money a customer has spent on purchases. High monetary value customers are often considered key contributors to a business's revenue.\n",
    "\n",
    "By evaluating these three aspects—Recency, Frequency, and Monetary Value—RFM analysis helps classify customers into different segments based on their behavior. This approach allows businesses to tailor their marketing strategies and engagement efforts to each segment's specific characteristics and needs.\n",
    "\n",
    "\n",
    "\n",
    "\n",
    "\n"
   ]
  },
  {
   "cell_type": "markdown",
   "id": "1ece097b",
   "metadata": {},
   "source": [
    "## Importing all required Libraries & Loading Data"
   ]
  },
  {
   "cell_type": "code",
   "execution_count": 1,
   "id": "9b13abcd",
   "metadata": {},
   "outputs": [],
   "source": [
    "import pandas as pd\n",
    "import matplotlib.pyplot as plt\n",
    "import seaborn as sns\n",
    "import numpy as np\n",
    "\n",
    "from datetime import datetime, timedelta\n",
    "\n",
    "from scipy import stats\n",
    "from sklearn.preprocessing import StandardScaler\n",
    "from sklearn.cluster import KMeans\n",
    "\n",
    "%matplotlib inline"
   ]
  },
  {
   "cell_type": "code",
   "execution_count": 100,
   "id": "85fc9459",
   "metadata": {},
   "outputs": [],
   "source": [
    "# Loading the data\n",
    "df = pd.read_csv('online_retail.csv')"
   ]
  },
  {
   "cell_type": "code",
   "execution_count": 101,
   "id": "b550e94a",
   "metadata": {},
   "outputs": [],
   "source": [
    "# Identifying rows with negative values in numeric columns\n",
    "numeric_columns = df.select_dtypes(include=['number']).columns\n",
    "rows_with_negative_values = df[numeric_columns].lt(0).any(axis=1)\n",
    "\n",
    "# Removing rows with negative values\n",
    "df = df[~rows_with_negative_values]\n",
    "df=df[(df['Quantity']>0) & (df['Price']>0)]\n",
    "\n",
    "# Dropping the duplicates\n",
    "df = df.drop_duplicates()"
   ]
  },
  {
   "cell_type": "code",
   "execution_count": 102,
   "id": "51f6fca0",
   "metadata": {},
   "outputs": [
    {
     "data": {
      "text/plain": [
       "(10000, 8)"
      ]
     },
     "execution_count": 102,
     "metadata": {},
     "output_type": "execute_result"
    }
   ],
   "source": [
    "df = df[df['Customer ID'].notna()]\n",
    "\n",
    "df = df.sample(10000, random_state = 42)\n",
    "df.shape"
   ]
  },
  {
   "cell_type": "code",
   "execution_count": 104,
   "id": "5066a2d6",
   "metadata": {},
   "outputs": [],
   "source": [
    "# creating subset of the original file\n",
    "df.to_csv('online_retail_subset.csv', index=False)"
   ]
  },
  {
   "cell_type": "code",
   "execution_count": 86,
   "id": "bd18d961",
   "metadata": {},
   "outputs": [
    {
     "data": {
      "text/html": [
       "<div>\n",
       "<style scoped>\n",
       "    .dataframe tbody tr th:only-of-type {\n",
       "        vertical-align: middle;\n",
       "    }\n",
       "\n",
       "    .dataframe tbody tr th {\n",
       "        vertical-align: top;\n",
       "    }\n",
       "\n",
       "    .dataframe thead th {\n",
       "        text-align: right;\n",
       "    }\n",
       "</style>\n",
       "<table border=\"1\" class=\"dataframe\">\n",
       "  <thead>\n",
       "    <tr style=\"text-align: right;\">\n",
       "      <th></th>\n",
       "      <th>Invoice</th>\n",
       "      <th>StockCode</th>\n",
       "      <th>Description</th>\n",
       "      <th>Quantity</th>\n",
       "      <th>InvoiceDate</th>\n",
       "      <th>Price</th>\n",
       "      <th>Customer ID</th>\n",
       "      <th>Country</th>\n",
       "    </tr>\n",
       "  </thead>\n",
       "  <tbody>\n",
       "    <tr>\n",
       "      <th>162908</th>\n",
       "      <td>504906</td>\n",
       "      <td>22275</td>\n",
       "      <td>WEEKEND BAG VINTAGE ROSE PAISLEY</td>\n",
       "      <td>6</td>\n",
       "      <td>2010-04-19 07:14:00</td>\n",
       "      <td>7.65</td>\n",
       "      <td>17850.0</td>\n",
       "      <td>United Kingdom</td>\n",
       "    </tr>\n",
       "    <tr>\n",
       "      <th>841250</th>\n",
       "      <td>564734</td>\n",
       "      <td>22367</td>\n",
       "      <td>CHILDRENS APRON SPACEBOY DESIGN</td>\n",
       "      <td>4</td>\n",
       "      <td>2011-08-28 13:32:00</td>\n",
       "      <td>1.95</td>\n",
       "      <td>12484.0</td>\n",
       "      <td>Spain</td>\n",
       "    </tr>\n",
       "    <tr>\n",
       "      <th>194068</th>\n",
       "      <td>507880</td>\n",
       "      <td>21340</td>\n",
       "      <td>CLASSIC METAL BIRDCAGE PLANT HOLDER</td>\n",
       "      <td>16</td>\n",
       "      <td>2010-05-11 15:03:00</td>\n",
       "      <td>9.95</td>\n",
       "      <td>12455.0</td>\n",
       "      <td>Cyprus</td>\n",
       "    </tr>\n",
       "    <tr>\n",
       "      <th>473891</th>\n",
       "      <td>534020</td>\n",
       "      <td>22144</td>\n",
       "      <td>CHRISTMAS CRAFT LITTLE FRIENDS</td>\n",
       "      <td>2</td>\n",
       "      <td>2010-11-19 14:40:00</td>\n",
       "      <td>2.10</td>\n",
       "      <td>15846.0</td>\n",
       "      <td>United Kingdom</td>\n",
       "    </tr>\n",
       "    <tr>\n",
       "      <th>376742</th>\n",
       "      <td>525757</td>\n",
       "      <td>22576</td>\n",
       "      <td>SWALLOW WOODEN CHRISTMAS DECORATION</td>\n",
       "      <td>20</td>\n",
       "      <td>2010-10-07 10:29:00</td>\n",
       "      <td>0.85</td>\n",
       "      <td>12841.0</td>\n",
       "      <td>United Kingdom</td>\n",
       "    </tr>\n",
       "  </tbody>\n",
       "</table>\n",
       "</div>"
      ],
      "text/plain": [
       "       Invoice StockCode                          Description  Quantity  \\\n",
       "162908  504906     22275     WEEKEND BAG VINTAGE ROSE PAISLEY         6   \n",
       "841250  564734     22367      CHILDRENS APRON SPACEBOY DESIGN         4   \n",
       "194068  507880     21340  CLASSIC METAL BIRDCAGE PLANT HOLDER        16   \n",
       "473891  534020     22144       CHRISTMAS CRAFT LITTLE FRIENDS         2   \n",
       "376742  525757     22576  SWALLOW WOODEN CHRISTMAS DECORATION        20   \n",
       "\n",
       "                InvoiceDate  Price  Customer ID         Country  \n",
       "162908  2010-04-19 07:14:00   7.65      17850.0  United Kingdom  \n",
       "841250  2011-08-28 13:32:00   1.95      12484.0           Spain  \n",
       "194068  2010-05-11 15:03:00   9.95      12455.0          Cyprus  \n",
       "473891  2010-11-19 14:40:00   2.10      15846.0  United Kingdom  \n",
       "376742  2010-10-07 10:29:00   0.85      12841.0  United Kingdom  "
      ]
     },
     "execution_count": 86,
     "metadata": {},
     "output_type": "execute_result"
    }
   ],
   "source": [
    "df.head()"
   ]
  },
  {
   "cell_type": "code",
   "execution_count": 87,
   "id": "bfe18294",
   "metadata": {},
   "outputs": [
    {
     "name": "stdout",
     "output_type": "stream",
     "text": [
      "<class 'pandas.core.frame.DataFrame'>\n",
      "Int64Index: 10000 entries, 162908 to 878331\n",
      "Data columns (total 8 columns):\n",
      " #   Column       Non-Null Count  Dtype  \n",
      "---  ------       --------------  -----  \n",
      " 0   Invoice      10000 non-null  object \n",
      " 1   StockCode    10000 non-null  object \n",
      " 2   Description  10000 non-null  object \n",
      " 3   Quantity     10000 non-null  int64  \n",
      " 4   InvoiceDate  10000 non-null  object \n",
      " 5   Price        10000 non-null  float64\n",
      " 6   Customer ID  10000 non-null  float64\n",
      " 7   Country      10000 non-null  object \n",
      "dtypes: float64(2), int64(1), object(5)\n",
      "memory usage: 703.1+ KB\n"
     ]
    }
   ],
   "source": [
    "df.info()"
   ]
  },
  {
   "cell_type": "markdown",
   "id": "ccca0a24",
   "metadata": {},
   "source": [
    "### Recency, Frequency and Monetary Value calculation"
   ]
  },
  {
   "cell_type": "code",
   "execution_count": 88,
   "id": "089fd676",
   "metadata": {},
   "outputs": [],
   "source": [
    "df[\"InvoiceDate\"] = pd.to_datetime(df[\"InvoiceDate\"])\n",
    "df[\"InvoiceDate\"] = df[\"InvoiceDate\"].dt.date\n",
    "\n",
    "# Create TotalSum column\n",
    "df[\"TotalSum\"] = df[\"Quantity\"] * df[\"Price\"]\n",
    "\n",
    "# Create date variable that records recency\n",
    "snapshot_date = max(df[\"InvoiceDate\"]) + timedelta(days=1)\n",
    "\n",
    "# Aggregate data by each customer\n",
    "customers = df.groupby(['Customer ID']).agg({\n",
    "    'InvoiceDate': lambda x: (snapshot_date - x.max()).days,\n",
    "    'Invoice': 'count',\n",
    "    'TotalSum': 'sum'})\n",
    "\n",
    "# Rename columns\n",
    "customers.rename(columns={'InvoiceDate': 'Recency',\n",
    "                          'Invoice': 'Frequency',\n",
    "                          'TotalSum': 'MonetaryValue'}, inplace=True)"
   ]
  },
  {
   "cell_type": "code",
   "execution_count": 89,
   "id": "561f98c0",
   "metadata": {},
   "outputs": [
    {
     "data": {
      "text/html": [
       "<div>\n",
       "<style scoped>\n",
       "    .dataframe tbody tr th:only-of-type {\n",
       "        vertical-align: middle;\n",
       "    }\n",
       "\n",
       "    .dataframe tbody tr th {\n",
       "        vertical-align: top;\n",
       "    }\n",
       "\n",
       "    .dataframe thead th {\n",
       "        text-align: right;\n",
       "    }\n",
       "</style>\n",
       "<table border=\"1\" class=\"dataframe\">\n",
       "  <thead>\n",
       "    <tr style=\"text-align: right;\">\n",
       "      <th></th>\n",
       "      <th>Recency</th>\n",
       "      <th>Frequency</th>\n",
       "      <th>MonetaryValue</th>\n",
       "    </tr>\n",
       "  </thead>\n",
       "  <tbody>\n",
       "    <tr>\n",
       "      <th>count</th>\n",
       "      <td>3037.000000</td>\n",
       "      <td>3037.000000</td>\n",
       "      <td>3037.000000</td>\n",
       "    </tr>\n",
       "    <tr>\n",
       "      <th>mean</th>\n",
       "      <td>252.593019</td>\n",
       "      <td>3.292723</td>\n",
       "      <td>71.535647</td>\n",
       "    </tr>\n",
       "    <tr>\n",
       "      <th>std</th>\n",
       "      <td>214.164700</td>\n",
       "      <td>5.932336</td>\n",
       "      <td>246.631281</td>\n",
       "    </tr>\n",
       "    <tr>\n",
       "      <th>min</th>\n",
       "      <td>1.000000</td>\n",
       "      <td>1.000000</td>\n",
       "      <td>0.390000</td>\n",
       "    </tr>\n",
       "    <tr>\n",
       "      <th>25%</th>\n",
       "      <td>54.000000</td>\n",
       "      <td>1.000000</td>\n",
       "      <td>13.080000</td>\n",
       "    </tr>\n",
       "    <tr>\n",
       "      <th>50%</th>\n",
       "      <td>202.000000</td>\n",
       "      <td>2.000000</td>\n",
       "      <td>25.200000</td>\n",
       "    </tr>\n",
       "    <tr>\n",
       "      <th>75%</th>\n",
       "      <td>415.000000</td>\n",
       "      <td>4.000000</td>\n",
       "      <td>59.800000</td>\n",
       "    </tr>\n",
       "    <tr>\n",
       "      <th>max</th>\n",
       "      <td>739.000000</td>\n",
       "      <td>148.000000</td>\n",
       "      <td>6756.420000</td>\n",
       "    </tr>\n",
       "  </tbody>\n",
       "</table>\n",
       "</div>"
      ],
      "text/plain": [
       "           Recency    Frequency  MonetaryValue\n",
       "count  3037.000000  3037.000000    3037.000000\n",
       "mean    252.593019     3.292723      71.535647\n",
       "std     214.164700     5.932336     246.631281\n",
       "min       1.000000     1.000000       0.390000\n",
       "25%      54.000000     1.000000      13.080000\n",
       "50%     202.000000     2.000000      25.200000\n",
       "75%     415.000000     4.000000      59.800000\n",
       "max     739.000000   148.000000    6756.420000"
      ]
     },
     "execution_count": 89,
     "metadata": {},
     "output_type": "execute_result"
    }
   ],
   "source": [
    "customers.describe()"
   ]
  },
  {
   "cell_type": "code",
   "execution_count": 90,
   "id": "847e6a14",
   "metadata": {},
   "outputs": [
    {
     "name": "stderr",
     "output_type": "stream",
     "text": [
      "D:\\Learning\\Anaconda\\lib\\site-packages\\seaborn\\distributions.py:2619: FutureWarning: `distplot` is a deprecated function and will be removed in a future version. Please adapt your code to use either `displot` (a figure-level function with similar flexibility) or `histplot` (an axes-level function for histograms).\n",
      "  warnings.warn(msg, FutureWarning)\n",
      "D:\\Learning\\Anaconda\\lib\\site-packages\\seaborn\\distributions.py:2619: FutureWarning: `distplot` is a deprecated function and will be removed in a future version. Please adapt your code to use either `displot` (a figure-level function with similar flexibility) or `histplot` (an axes-level function for histograms).\n",
      "  warnings.warn(msg, FutureWarning)\n",
      "D:\\Learning\\Anaconda\\lib\\site-packages\\seaborn\\distributions.py:2619: FutureWarning: `distplot` is a deprecated function and will be removed in a future version. Please adapt your code to use either `displot` (a figure-level function with similar flexibility) or `histplot` (an axes-level function for histograms).\n",
      "  warnings.warn(msg, FutureWarning)\n"
     ]
    },
    {
     "data": {
      "image/png": "[encoded data removed]",
      "text/plain": [
       "<Figure size 1000x1500 with 3 Axes>"
      ]
     },
     "metadata": {},
     "output_type": "display_data"
    }
   ],
   "source": [
    "fig, ax = plt.subplots(3, 1, figsize=(10,15))\n",
    "sns.distplot(customers['Recency'],kde = True, ax=ax[0])\n",
    "sns.distplot(customers['Frequency'],kde = True, ax=ax[1])\n",
    "sns.distplot(customers['MonetaryValue'],kde = True, ax=ax[2])\n",
    "plt.tight_layout()\n",
    "plt.show()"
   ]
  },
  {
   "cell_type": "markdown",
   "id": "0b5ca93e",
   "metadata": {},
   "source": [
    "### BoxCox Transformation & K-Means Clustering"
   ]
  },
  {
   "cell_type": "code",
   "execution_count": 91,
   "id": "ca716109",
   "metadata": {},
   "outputs": [
    {
     "data": {
      "text/html": [
       "<div>\n",
       "<style scoped>\n",
       "    .dataframe tbody tr th:only-of-type {\n",
       "        vertical-align: middle;\n",
       "    }\n",
       "\n",
       "    .dataframe tbody tr th {\n",
       "        vertical-align: top;\n",
       "    }\n",
       "\n",
       "    .dataframe thead th {\n",
       "        text-align: right;\n",
       "    }\n",
       "</style>\n",
       "<table border=\"1\" class=\"dataframe\">\n",
       "  <thead>\n",
       "    <tr style=\"text-align: right;\">\n",
       "      <th></th>\n",
       "      <th>Recency</th>\n",
       "      <th>Frequency</th>\n",
       "      <th>MonetaryValue</th>\n",
       "    </tr>\n",
       "  </thead>\n",
       "  <tbody>\n",
       "    <tr>\n",
       "      <th>3032</th>\n",
       "      <td>19.877935</td>\n",
       "      <td>0.000000</td>\n",
       "      <td>2.168703</td>\n",
       "    </tr>\n",
       "    <tr>\n",
       "      <th>3033</th>\n",
       "      <td>19.683718</td>\n",
       "      <td>0.570107</td>\n",
       "      <td>2.831448</td>\n",
       "    </tr>\n",
       "    <tr>\n",
       "      <th>3034</th>\n",
       "      <td>22.828760</td>\n",
       "      <td>0.000000</td>\n",
       "      <td>2.545822</td>\n",
       "    </tr>\n",
       "    <tr>\n",
       "      <th>3035</th>\n",
       "      <td>1.773868</td>\n",
       "      <td>1.204461</td>\n",
       "      <td>2.778060</td>\n",
       "    </tr>\n",
       "    <tr>\n",
       "      <th>3036</th>\n",
       "      <td>8.872165</td>\n",
       "      <td>0.811065</td>\n",
       "      <td>4.772762</td>\n",
       "    </tr>\n",
       "  </tbody>\n",
       "</table>\n",
       "</div>"
      ],
      "text/plain": [
       "        Recency  Frequency  MonetaryValue\n",
       "3032  19.877935   0.000000       2.168703\n",
       "3033  19.683718   0.570107       2.831448\n",
       "3034  22.828760   0.000000       2.545822\n",
       "3035   1.773868   1.204461       2.778060\n",
       "3036   8.872165   0.811065       4.772762"
      ]
     },
     "execution_count": 91,
     "metadata": {},
     "output_type": "execute_result"
    }
   ],
   "source": [
    "customers_fix = pd.DataFrame()\n",
    "customers_fix[\"Recency\"] = stats.boxcox(customers['Recency'])[0]\n",
    "customers_fix[\"Frequency\"] = stats.boxcox(customers['Frequency'])[0]\n",
    "customers_fix[\"MonetaryValue\"] = pd.Series(np.cbrt(customers['MonetaryValue'])).values\n",
    "customers_fix.tail()"
   ]
  },
  {
   "cell_type": "code",
   "execution_count": 92,
   "id": "c5213ede",
   "metadata": {},
   "outputs": [
    {
     "name": "stdout",
     "output_type": "stream",
     "text": [
      "[ 0. -0.  0.]\n",
      "[1. 1. 1.]\n"
     ]
    }
   ],
   "source": [
    "scaler = StandardScaler()\n",
    "scaler.fit(customers_fix)\n",
    "customers_normalized = scaler.transform(customers_fix)\n",
    "print(customers_normalized.mean(axis = 0).round(2))\n",
    "print(customers_normalized.std(axis = 0).round(2))"
   ]
  },
  {
   "cell_type": "code",
   "execution_count": 93,
   "id": "07047163",
   "metadata": {},
   "outputs": [
    {
     "data": {
      "image/png": "[encoded data removed]",
      "text/plain": [
       "<Figure size 640x480 with 1 Axes>"
      ]
     },
     "metadata": {},
     "output_type": "display_data"
    }
   ],
   "source": [
    "sse = {}\n",
    "\n",
    "for k in range(2, 11):\n",
    "    kmeans = KMeans(n_clusters=k, random_state=42)\n",
    "    kmeans.fit(customers_normalized)\n",
    "    sse[k] = kmeans.inertia_ # SSE to closest cluster centroid\n",
    "\n",
    "plt.title('The Elbow Method')\n",
    "plt.xlabel('k')\n",
    "plt.ylabel('SSE')\n",
    "sns.pointplot(x=list(sse.keys()), y=list(sse.values()))\n",
    "plt.show()"
   ]
  },
  {
   "cell_type": "code",
   "execution_count": 94,
   "id": "bad5a3d4",
   "metadata": {},
   "outputs": [
    {
     "data": {
      "text/plain": [
       "(3037,)"
      ]
     },
     "execution_count": 94,
     "metadata": {},
     "output_type": "execute_result"
    }
   ],
   "source": [
    "model = KMeans(n_clusters=3, random_state=42)\n",
    "model.fit(customers_normalized)\n",
    "model.labels_.shape"
   ]
  },
  {
   "cell_type": "code",
   "execution_count": 95,
   "id": "be03f46d",
   "metadata": {},
   "outputs": [
    {
     "data": {
      "text/html": [
       "<div>\n",
       "<style scoped>\n",
       "    .dataframe tbody tr th:only-of-type {\n",
       "        vertical-align: middle;\n",
       "    }\n",
       "\n",
       "    .dataframe tbody tr th {\n",
       "        vertical-align: top;\n",
       "    }\n",
       "\n",
       "    .dataframe thead th {\n",
       "        text-align: right;\n",
       "    }\n",
       "</style>\n",
       "<table border=\"1\" class=\"dataframe\">\n",
       "  <thead>\n",
       "    <tr style=\"text-align: right;\">\n",
       "      <th></th>\n",
       "      <th>Recency</th>\n",
       "      <th>Frequency</th>\n",
       "      <th>MonetaryValue</th>\n",
       "      <th>Cluster</th>\n",
       "    </tr>\n",
       "    <tr>\n",
       "      <th>Customer ID</th>\n",
       "      <th></th>\n",
       "      <th></th>\n",
       "      <th></th>\n",
       "      <th></th>\n",
       "    </tr>\n",
       "  </thead>\n",
       "  <tbody>\n",
       "    <tr>\n",
       "      <th>12346.0</th>\n",
       "      <td>722</td>\n",
       "      <td>1</td>\n",
       "      <td>22.5</td>\n",
       "      <td>1</td>\n",
       "    </tr>\n",
       "    <tr>\n",
       "      <th>12347.0</th>\n",
       "      <td>247</td>\n",
       "      <td>1</td>\n",
       "      <td>17.0</td>\n",
       "      <td>1</td>\n",
       "    </tr>\n",
       "    <tr>\n",
       "      <th>12348.0</th>\n",
       "      <td>359</td>\n",
       "      <td>2</td>\n",
       "      <td>63.6</td>\n",
       "      <td>1</td>\n",
       "    </tr>\n",
       "    <tr>\n",
       "      <th>12350.0</th>\n",
       "      <td>311</td>\n",
       "      <td>1</td>\n",
       "      <td>17.4</td>\n",
       "      <td>1</td>\n",
       "    </tr>\n",
       "    <tr>\n",
       "      <th>12352.0</th>\n",
       "      <td>37</td>\n",
       "      <td>2</td>\n",
       "      <td>40.4</td>\n",
       "      <td>0</td>\n",
       "    </tr>\n",
       "  </tbody>\n",
       "</table>\n",
       "</div>"
      ],
      "text/plain": [
       "             Recency  Frequency  MonetaryValue  Cluster\n",
       "Customer ID                                            \n",
       "12346.0          722          1           22.5        1\n",
       "12347.0          247          1           17.0        1\n",
       "12348.0          359          2           63.6        1\n",
       "12350.0          311          1           17.4        1\n",
       "12352.0           37          2           40.4        0"
      ]
     },
     "execution_count": 95,
     "metadata": {},
     "output_type": "execute_result"
    }
   ],
   "source": [
    "customers[\"Cluster\"] = model.labels_\n",
    "customers.head()"
   ]
  },
  {
   "cell_type": "code",
   "execution_count": 96,
   "id": "8d5ea9d0",
   "metadata": {},
   "outputs": [
    {
     "data": {
      "text/html": [
       "<div>\n",
       "<style scoped>\n",
       "    .dataframe tbody tr th:only-of-type {\n",
       "        vertical-align: middle;\n",
       "    }\n",
       "\n",
       "    .dataframe tbody tr th {\n",
       "        vertical-align: top;\n",
       "    }\n",
       "\n",
       "    .dataframe thead tr th {\n",
       "        text-align: left;\n",
       "    }\n",
       "\n",
       "    .dataframe thead tr:last-of-type th {\n",
       "        text-align: right;\n",
       "    }\n",
       "</style>\n",
       "<table border=\"1\" class=\"dataframe\">\n",
       "  <thead>\n",
       "    <tr>\n",
       "      <th></th>\n",
       "      <th>Recency</th>\n",
       "      <th>Frequency</th>\n",
       "      <th colspan=\"2\" halign=\"left\">MonetaryValue</th>\n",
       "    </tr>\n",
       "    <tr>\n",
       "      <th></th>\n",
       "      <th>mean</th>\n",
       "      <th>mean</th>\n",
       "      <th>mean</th>\n",
       "      <th>count</th>\n",
       "    </tr>\n",
       "    <tr>\n",
       "      <th>Cluster</th>\n",
       "      <th></th>\n",
       "      <th></th>\n",
       "      <th></th>\n",
       "      <th></th>\n",
       "    </tr>\n",
       "  </thead>\n",
       "  <tbody>\n",
       "    <tr>\n",
       "      <th>0</th>\n",
       "      <td>60.4</td>\n",
       "      <td>1.6</td>\n",
       "      <td>20.1</td>\n",
       "      <td>734</td>\n",
       "    </tr>\n",
       "    <tr>\n",
       "      <th>1</th>\n",
       "      <td>445.2</td>\n",
       "      <td>1.5</td>\n",
       "      <td>23.3</td>\n",
       "      <td>1356</td>\n",
       "    </tr>\n",
       "    <tr>\n",
       "      <th>2</th>\n",
       "      <td>125.8</td>\n",
       "      <td>7.1</td>\n",
       "      <td>180.5</td>\n",
       "      <td>947</td>\n",
       "    </tr>\n",
       "  </tbody>\n",
       "</table>\n",
       "</div>"
      ],
      "text/plain": [
       "        Recency Frequency MonetaryValue      \n",
       "           mean      mean          mean count\n",
       "Cluster                                      \n",
       "0          60.4       1.6          20.1   734\n",
       "1         445.2       1.5          23.3  1356\n",
       "2         125.8       7.1         180.5   947"
      ]
     },
     "execution_count": 96,
     "metadata": {},
     "output_type": "execute_result"
    }
   ],
   "source": [
    "customers.groupby('Cluster').agg({\n",
    "    'Recency':'mean',\n",
    "    'Frequency':'mean',\n",
    "    'MonetaryValue':['mean', 'count']}).round(1)"
   ]
  },
  {
   "cell_type": "code",
   "execution_count": 97,
   "id": "e8b6ea91",
   "metadata": {},
   "outputs": [
    {
     "data": {
      "text/html": [
       "<div>\n",
       "<style scoped>\n",
       "    .dataframe tbody tr th:only-of-type {\n",
       "        vertical-align: middle;\n",
       "    }\n",
       "\n",
       "    .dataframe tbody tr th {\n",
       "        vertical-align: top;\n",
       "    }\n",
       "\n",
       "    .dataframe thead th {\n",
       "        text-align: right;\n",
       "    }\n",
       "</style>\n",
       "<table border=\"1\" class=\"dataframe\">\n",
       "  <thead>\n",
       "    <tr style=\"text-align: right;\">\n",
       "      <th></th>\n",
       "      <th>Recency</th>\n",
       "      <th>Frequency</th>\n",
       "      <th>MonetaryValue</th>\n",
       "      <th>ID</th>\n",
       "      <th>Cluster</th>\n",
       "    </tr>\n",
       "  </thead>\n",
       "  <tbody>\n",
       "    <tr>\n",
       "      <th>0</th>\n",
       "      <td>1.573036</td>\n",
       "      <td>-1.066355</td>\n",
       "      <td>-0.292707</td>\n",
       "      <td>12346.0</td>\n",
       "      <td>1</td>\n",
       "    </tr>\n",
       "    <tr>\n",
       "      <th>1</th>\n",
       "      <td>0.302290</td>\n",
       "      <td>-1.066355</td>\n",
       "      <td>-0.449779</td>\n",
       "      <td>12347.0</td>\n",
       "      <td>1</td>\n",
       "    </tr>\n",
       "    <tr>\n",
       "      <th>2</th>\n",
       "      <td>0.693445</td>\n",
       "      <td>0.145756</td>\n",
       "      <td>0.436149</td>\n",
       "      <td>12348.0</td>\n",
       "      <td>1</td>\n",
       "    </tr>\n",
       "    <tr>\n",
       "      <th>3</th>\n",
       "      <td>0.537359</td>\n",
       "      <td>-1.066355</td>\n",
       "      <td>-0.437298</td>\n",
       "      <td>12350.0</td>\n",
       "      <td>1</td>\n",
       "    </tr>\n",
       "    <tr>\n",
       "      <th>4</th>\n",
       "      <td>-1.066796</td>\n",
       "      <td>0.145756</td>\n",
       "      <td>0.086650</td>\n",
       "      <td>12352.0</td>\n",
       "      <td>0</td>\n",
       "    </tr>\n",
       "  </tbody>\n",
       "</table>\n",
       "</div>"
      ],
      "text/plain": [
       "    Recency  Frequency  MonetaryValue       ID  Cluster\n",
       "0  1.573036  -1.066355      -0.292707  12346.0        1\n",
       "1  0.302290  -1.066355      -0.449779  12347.0        1\n",
       "2  0.693445   0.145756       0.436149  12348.0        1\n",
       "3  0.537359  -1.066355      -0.437298  12350.0        1\n",
       "4 -1.066796   0.145756       0.086650  12352.0        0"
      ]
     },
     "execution_count": 97,
     "metadata": {},
     "output_type": "execute_result"
    }
   ],
   "source": [
    "df_normalized = pd.DataFrame(customers_normalized, columns=['Recency', 'Frequency', 'MonetaryValue'])\n",
    "df_normalized['ID'] = customers.index\n",
    "df_normalized['Cluster'] = model.labels_\n",
    "df_normalized.head()"
   ]
  },
  {
   "cell_type": "code",
   "execution_count": 98,
   "id": "aa562df2",
   "metadata": {},
   "outputs": [
    {
     "data": {
      "text/html": [
       "<div>\n",
       "<style scoped>\n",
       "    .dataframe tbody tr th:only-of-type {\n",
       "        vertical-align: middle;\n",
       "    }\n",
       "\n",
       "    .dataframe tbody tr th {\n",
       "        vertical-align: top;\n",
       "    }\n",
       "\n",
       "    .dataframe thead th {\n",
       "        text-align: right;\n",
       "    }\n",
       "</style>\n",
       "<table border=\"1\" class=\"dataframe\">\n",
       "  <thead>\n",
       "    <tr style=\"text-align: right;\">\n",
       "      <th></th>\n",
       "      <th>ID</th>\n",
       "      <th>Cluster</th>\n",
       "      <th>Attribute</th>\n",
       "      <th>Value</th>\n",
       "    </tr>\n",
       "  </thead>\n",
       "  <tbody>\n",
       "    <tr>\n",
       "      <th>0</th>\n",
       "      <td>12346.0</td>\n",
       "      <td>1</td>\n",
       "      <td>Recency</td>\n",
       "      <td>1.573036</td>\n",
       "    </tr>\n",
       "    <tr>\n",
       "      <th>1</th>\n",
       "      <td>12347.0</td>\n",
       "      <td>1</td>\n",
       "      <td>Recency</td>\n",
       "      <td>0.302290</td>\n",
       "    </tr>\n",
       "    <tr>\n",
       "      <th>2</th>\n",
       "      <td>12348.0</td>\n",
       "      <td>1</td>\n",
       "      <td>Recency</td>\n",
       "      <td>0.693445</td>\n",
       "    </tr>\n",
       "    <tr>\n",
       "      <th>3</th>\n",
       "      <td>12350.0</td>\n",
       "      <td>1</td>\n",
       "      <td>Recency</td>\n",
       "      <td>0.537359</td>\n",
       "    </tr>\n",
       "    <tr>\n",
       "      <th>4</th>\n",
       "      <td>12352.0</td>\n",
       "      <td>0</td>\n",
       "      <td>Recency</td>\n",
       "      <td>-1.066796</td>\n",
       "    </tr>\n",
       "  </tbody>\n",
       "</table>\n",
       "</div>"
      ],
      "text/plain": [
       "        ID  Cluster Attribute     Value\n",
       "0  12346.0        1   Recency  1.573036\n",
       "1  12347.0        1   Recency  0.302290\n",
       "2  12348.0        1   Recency  0.693445\n",
       "3  12350.0        1   Recency  0.537359\n",
       "4  12352.0        0   Recency -1.066796"
      ]
     },
     "execution_count": 98,
     "metadata": {},
     "output_type": "execute_result"
    }
   ],
   "source": [
    "df_nor_melt = pd.melt(df_normalized.reset_index(),\n",
    "                      id_vars=['ID', 'Cluster'],\n",
    "                      value_vars=['Recency','Frequency','MonetaryValue'],\n",
    "                      var_name='Attribute',\n",
    "                      value_name='Value')\n",
    "df_nor_melt.head()"
   ]
  },
  {
   "cell_type": "markdown",
   "id": "2742df05",
   "metadata": {},
   "source": [
    "#### Snake Plot"
   ]
  },
  {
   "cell_type": "code",
   "execution_count": 99,
   "id": "70be47ce",
   "metadata": {},
   "outputs": [
    {
     "name": "stderr",
     "output_type": "stream",
     "text": [
      "D:\\Learning\\Anaconda\\lib\\site-packages\\seaborn\\_decorators.py:36: FutureWarning: Pass the following variables as keyword args: x, y. From version 0.12, the only valid positional argument will be `data`, and passing other arguments without an explicit keyword will result in an error or misinterpretation.\n",
      "  warnings.warn(\n"
     ]
    },
    {
     "data": {
      "text/plain": [
       "<AxesSubplot:xlabel='Attribute', ylabel='Value'>"
      ]
     },
     "execution_count": 99,
     "metadata": {},
     "output_type": "execute_result"
    },
    {
     "data": {
      "image/png": "[encoded data removed]",
      "text/plain": [
       "<Figure size 640x480 with 1 Axes>"
      ]
     },
     "metadata": {},
     "output_type": "display_data"
    }
   ],
   "source": [
    "sns.lineplot('Attribute', 'Value', hue='Cluster', data=df_nor_melt)"
   ]
  },
  {
   "cell_type": "markdown",
   "id": "2293b5e0",
   "metadata": {},
   "source": [
    " - Cluster 2 represents frequent, high-spending customers who have made recent purchases, likely indicating loyal patrons.\n",
    " - Cluster 0 signifies less frequent, lower-spending customers who have made recent purchases, possibly indicating new customers. \n",
    " - Cluster 1 represents less frequent, lower-spending customers who made purchases in the past, possibly signifying saturated or longtime customers."
   ]
  },
  {
   "cell_type": "code",
   "execution_count": 34,
   "id": "5c86e451",
   "metadata": {},
   "outputs": [
    {
     "data": {
      "text/html": [
       "<div>\n",
       "<style scoped>\n",
       "    .dataframe tbody tr th:only-of-type {\n",
       "        vertical-align: middle;\n",
       "    }\n",
       "\n",
       "    .dataframe tbody tr th {\n",
       "        vertical-align: top;\n",
       "    }\n",
       "\n",
       "    .dataframe thead tr th {\n",
       "        text-align: left;\n",
       "    }\n",
       "\n",
       "    .dataframe thead tr:last-of-type th {\n",
       "        text-align: right;\n",
       "    }\n",
       "</style>\n",
       "<table border=\"1\" class=\"dataframe\">\n",
       "  <thead>\n",
       "    <tr>\n",
       "      <th></th>\n",
       "      <th>Recency</th>\n",
       "      <th>Frequency</th>\n",
       "      <th colspan=\"2\" halign=\"left\">MonetaryValue</th>\n",
       "    </tr>\n",
       "    <tr>\n",
       "      <th></th>\n",
       "      <th>mean</th>\n",
       "      <th>mean</th>\n",
       "      <th>mean</th>\n",
       "      <th>count</th>\n",
       "    </tr>\n",
       "    <tr>\n",
       "      <th>Cluster</th>\n",
       "      <th></th>\n",
       "      <th></th>\n",
       "      <th></th>\n",
       "      <th></th>\n",
       "    </tr>\n",
       "  </thead>\n",
       "  <tbody>\n",
       "    <tr>\n",
       "      <th>0</th>\n",
       "      <td>79.6</td>\n",
       "      <td>9.4</td>\n",
       "      <td>133.4</td>\n",
       "      <td>1933</td>\n",
       "    </tr>\n",
       "    <tr>\n",
       "      <th>1</th>\n",
       "      <td>391.9</td>\n",
       "      <td>3.1</td>\n",
       "      <td>59.6</td>\n",
       "      <td>2240</td>\n",
       "    </tr>\n",
       "    <tr>\n",
       "      <th>2</th>\n",
       "      <td>48.6</td>\n",
       "      <td>42.6</td>\n",
       "      <td>1399.9</td>\n",
       "      <td>818</td>\n",
       "    </tr>\n",
       "  </tbody>\n",
       "</table>\n",
       "</div>"
      ],
      "text/plain": [
       "        Recency Frequency MonetaryValue      \n",
       "           mean      mean          mean count\n",
       "Cluster                                      \n",
       "0          79.6       9.4         133.4  1933\n",
       "1         391.9       3.1          59.6  2240\n",
       "2          48.6      42.6        1399.9   818"
      ]
     },
     "execution_count": 34,
     "metadata": {},
     "output_type": "execute_result"
    }
   ],
   "source": [
    "customers.groupby('Cluster').agg({\n",
    "    'Recency':'mean',\n",
    "    'Frequency':'mean',\n",
    "    'MonetaryValue':['mean', 'count']}).round(1)"
   ]
  },
  {
   "cell_type": "markdown",
   "id": "992deaac",
   "metadata": {},
   "source": [
    "## Conclusion"
   ]
  },
  {
   "cell_type": "markdown",
   "id": "5362beb8",
   "metadata": {},
   "source": [
    "Customer segmentation, a crucial endeavor, identifies distinct customer traits. K-Means clustering segments loyal, new, and churned customers. Cluster 2 comprises frequent, high-spending recent buyers—loyal customers. Cluster 0 includes less frequent, lower-spending recent buyers—new customers. Cluster 1 consists of infrequent, low-spending old-time buyers—churned customers.\n",
    "\n",
    "Suggestions:\n",
    "\n",
    "1. Elevate Cluster 0 by offering enticing deals to transform them into loyal customers and amplify profits.\n",
    "2. Focus less on Cluster 1 as it primarily constitutes churned-out customers with limited potential for enhancement.\n",
    "3. Prioritize Cluster 2—our loyal, vital segment—ensuring its growth and retention for shop success."
   ]
  },
  {
   "cell_type": "markdown",
   "id": "d71d4281",
   "metadata": {},
   "source": [
    "### Thank You!"
   ]
  }
 ],
 "metadata": {
  "kernelspec": {
   "display_name": "Python 3 (ipykernel)",
   "language": "python",
   "name": "python3"
  },
  "language_info": {
   "codemirror_mode": {
    "name": "ipython",
    "version": 3
   },
   "file_extension": ".py",
   "mimetype": "text/x-python",
   "name": "python",
   "nbconvert_exporter": "python",
   "pygments_lexer": "ipython3",
   "version": "3.9.13"
  }
 },
 "nbformat": 4,
 "nbformat_minor": 5
}
